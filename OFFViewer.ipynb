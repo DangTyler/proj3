{
 "cells": [
  {
   "cell_type": "code",
   "execution_count": 12,
   "id": "694b4cc3-2110-403b-ab11-b224e97ebb9d",
   "metadata": {},
   "outputs": [],
   "source": [
    "# https://www.open3d.org/docs/latest/python_api/open3d.visualization.html\n",
    "import open3d as o3d\n",
    "# visual object at path1 on the left and path2 on the right\n",
    "def offViewer(path1, path2):\n",
    "    # Read the mesh data\n",
    "    mesh1 = o3d.io.read_triangle_mesh(path1)\n",
    "    mesh2 = o3d.io.read_triangle_mesh(path2)\n",
    "    # add vertices and edges\n",
    "    mesh1.compute_vertex_normals()\n",
    "    mesh2.compute_vertex_normals()\n",
    "    # Calculate box extents for translation\n",
    "    bbox1 = mesh1.get_axis_aligned_bounding_box()\n",
    "    bbox2 = mesh2.get_axis_aligned_bounding_box()\n",
    "    # Determine translation distance based on box extent\n",
    "    x = bbox1.get_max_bound()[0] - bbox1.get_min_bound()[0] + bbox2.get_max_bound()[0] - bbox2.get_min_bound()[0] + 0.1 \n",
    "    # Translate second mesh to the right to avoid overlap when visualizing\n",
    "    mesh2.translate([x, 0, 0]) \n",
    "    # Visualize the mesh\n",
    "    o3d.visualization.draw_geometries([mesh1, mesh2])# https://www.open3d.org/docs/latest/python_api/open3d.visualization.html"
   ]
  },
  {
   "cell_type": "code",
   "execution_count": null,
   "id": "2855b027-eb58-4159-b1a4-1c76438e5b7e",
   "metadata": {},
   "outputs": [],
   "source": [
    "# example\n",
    "data_file_path = \"ModelNet10/\"\n",
    "# before the path had data/ in front  \n",
    "off_file_path1 = data_file_path + \"bathtub/test/bathtub_0107.off\" \n",
    "off_file_path2 = data_file_path + \"bathtub/test/bathtub_0108.off\" \n",
    "offViewer(off_file_path1, off_file_path2)"
   ]
  },
  {
   "cell_type": "code",
   "execution_count": null,
   "id": "d4dda677-07af-4e7d-9a98-fed396df281d",
   "metadata": {},
   "outputs": [],
   "source": []
  }
 ],
 "metadata": {
  "kernelspec": {
   "display_name": "proj3env",
   "language": "python",
   "name": "proj3env"
  },
  "language_info": {
   "codemirror_mode": {
    "name": "ipython",
    "version": 3
   },
   "file_extension": ".py",
   "mimetype": "text/x-python",
   "name": "python",
   "nbconvert_exporter": "python",
   "pygments_lexer": "ipython3",
   "version": "3.11.0"
  }
 },
 "nbformat": 4,
 "nbformat_minor": 5
}
