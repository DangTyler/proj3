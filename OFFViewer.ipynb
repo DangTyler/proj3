{
 "cells": [
  {
   "cell_type": "code",
   "execution_count": 10,
   "id": "694b4cc3-2110-403b-ab11-b224e97ebb9d",
   "metadata": {},
   "outputs": [],
   "source": [
    "# https://www.open3d.org/docs/latest/python_api/open3d.visualization.html\n",
    "import open3d as o3d\n",
    "data_file_path = \"data/ModelNet10/\"\n",
    "# Path to your OFF file (example)\n",
    "off_file_path1 = data_file_path + \"bathtub/test/bathtub_0107.off\" \n",
    "off_file_path2 = data_file_path + \"bathtub/test/bathtub_0108.off\" \n",
    "# Read the triangle mesh\n",
    "mesh1 = o3d.io.read_triangle_mesh(off_file_path1)\n",
    "mesh2 = o3d.io.read_triangle_mesh(off_file_path2)\n",
    "# Compute vertex normals \n",
    "mesh1.compute_vertex_normals()\n",
    "mesh2.compute_vertex_normals()\n",
    "# Calculate box extents for translation\n",
    "bbox1 = mesh1.get_axis_aligned_bounding_box()\n",
    "bbox2 = mesh2.get_axis_aligned_bounding_box()\n",
    "# Determine translation distance based on box extent\n",
    "x = bbox1.get_max_bound()[0] - bbox1.get_min_bound()[0] + bbox2.get_max_bound()[0] - bbox2.get_min_bound()[0] + 0.1 \n",
    "# Translate second mesh to avoid overlap when visualizing\n",
    "mesh2.translate([x, 0, 0]) \n",
    "# Visualize the mesh\n",
    "o3d.visualization.draw_geometries([mesh1, mesh2])"
   ]
  },
  {
   "cell_type": "code",
   "execution_count": null,
   "id": "1c04b5d2-2273-417e-855c-875dff44aa19",
   "metadata": {},
   "outputs": [],
   "source": []
  }
 ],
 "metadata": {
  "kernelspec": {
   "display_name": "Python 3 (ipykernel)",
   "language": "python",
   "name": "python3"
  },
  "language_info": {
   "codemirror_mode": {
    "name": "ipython",
    "version": 3
   },
   "file_extension": ".py",
   "mimetype": "text/x-python",
   "name": "python",
   "nbconvert_exporter": "python",
   "pygments_lexer": "ipython3",
   "version": "3.11.5"
  }
 },
 "nbformat": 4,
 "nbformat_minor": 5
}
