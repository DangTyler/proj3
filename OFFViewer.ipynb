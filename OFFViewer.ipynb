{
 "cells": [
  {
   "cell_type": "code",
   "execution_count": null,
   "id": "694b4cc3-2110-403b-ab11-b224e97ebb9d",
   "metadata": {},
   "outputs": [],
   "source": [
    "import open3d as o3d\n",
    "# Path to your OFF file (example)\n",
    "off_file_path = \"data/ModelNet10/bathtub/test/bathtub_0107.off\" \n",
    "# Read the triangle mesh\n",
    "mesh = o3d.io.read_triangle_mesh(off_file_path)\n",
    "# Compute vertex normals \n",
    "mesh.compute_vertex_normals()\n",
    "# Visualize the mesh\n",
    "o3d.visualization.draw_geometries([mesh], window_name=\"OFF File Viewer\")"
   ]
  },
  {
   "cell_type": "code",
   "execution_count": null,
   "id": "1c04b5d2-2273-417e-855c-875dff44aa19",
   "metadata": {},
   "outputs": [],
   "source": []
  }
 ],
 "metadata": {
  "kernelspec": {
   "display_name": "Python 3 (ipykernel)",
   "language": "python",
   "name": "python3"
  },
  "language_info": {
   "codemirror_mode": {
    "name": "ipython",
    "version": 3
   },
   "file_extension": ".py",
   "mimetype": "text/x-python",
   "name": "python",
   "nbconvert_exporter": "python",
   "pygments_lexer": "ipython3",
   "version": "3.11.5"
  }
 },
 "nbformat": 4,
 "nbformat_minor": 5
}
