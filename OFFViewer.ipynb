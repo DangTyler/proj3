{
 "cells": [
  {
   "cell_type": "code",
   "execution_count": 2,
   "id": "694b4cc3-2110-403b-ab11-b224e97ebb9d",
   "metadata": {},
   "outputs": [
    {
     "name": "stdout",
     "output_type": "stream",
     "text": [
      "Jupyter environment detected. Enabling Open3D WebVisualizer.\n",
      "[Open3D INFO] WebRTC GUI backend enabled.\n",
      "[Open3D INFO] WebRTCWindowSystem: HTTP handshake server disabled.\n"
     ]
    }
   ],
   "source": [
    "# https://www.open3d.org/docs/latest/python_api/open3d.visualization.html\n",
    "import open3d as o3d\n",
    "# visual object at path1 on the left and path2 on the right\n",
    "def offViewer(path1, path2):\n",
    "    # Read the mesh data\n",
    "    mesh1 = o3d.io.read_triangle_mesh(path1)\n",
    "    mesh2 = o3d.io.read_triangle_mesh(path2)\n",
    "    # Compute vertex normals \n",
    "    mesh1.compute_vertex_normals()\n",
    "    mesh2.compute_vertex_normals()\n",
    "    # Calculate box extents for translation\n",
    "    bbox1 = mesh1.get_axis_aligned_bounding_box()\n",
    "    bbox2 = mesh2.get_axis_aligned_bounding_box()\n",
    "    # Determine translation distance based on box extent\n",
    "    x = bbox1.get_max_bound()[0] - bbox1.get_min_bound()[0] + bbox2.get_max_bound()[0] - bbox2.get_min_bound()[0] + 0.1 \n",
    "    # Translate second mesh to the right to avoid overlap when visualizing\n",
    "    mesh2.translate([x, 0, 0]) \n",
    "    # Visualize the mesh\n",
    "    o3d.visualization.draw_geometries([mesh1, mesh2])# https://www.open3d.org/docs/latest/python_api/open3d.visualization.html"
   ]
  },
  {
   "cell_type": "code",
   "execution_count": 3,
   "id": "2855b027-eb58-4159-b1a4-1c76438e5b7e",
   "metadata": {},
   "outputs": [],
   "source": [
    "# example\n",
    "data_file_path = \"data/ModelNet10/\"\n",
    "off_file_path1 = data_file_path + \"bathtub/test/bathtub_0107.off\" \n",
    "off_file_path2 = data_file_path + \"bathtub/test/bathtub_0108.off\" \n",
    "offViewer(off_file_path1, off_file_path2)"
   ]
  },
  {
   "cell_type": "code",
   "execution_count": null,
   "id": "85a6f9be-d50b-440e-ac44-acb0242b9e8a",
   "metadata": {},
   "outputs": [],
   "source": []
  }
 ],
 "metadata": {
  "kernelspec": {
   "display_name": "Python 3 (ipykernel)",
   "language": "python",
   "name": "python3"
  },
  "language_info": {
   "codemirror_mode": {
    "name": "ipython",
    "version": 3
   },
   "file_extension": ".py",
   "mimetype": "text/x-python",
   "name": "python",
   "nbconvert_exporter": "python",
   "pygments_lexer": "ipython3",
   "version": "3.11.5"
  }
 },
 "nbformat": 4,
 "nbformat_minor": 5
}
